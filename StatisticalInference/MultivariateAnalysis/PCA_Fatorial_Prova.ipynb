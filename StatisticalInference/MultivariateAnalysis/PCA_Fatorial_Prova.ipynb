{
  "nbformat": 4,
  "nbformat_minor": 0,
  "metadata": {
    "colab": {
      "provenance": []
    },
    "kernelspec": {
      "name": "python3",
      "display_name": "Python 3"
    },
    "language_info": {
      "name": "python"
    }
  },
  "cells": [
    {
      "cell_type": "code",
      "source": [
        "import numpy as np\n",
        "import matplotlib.pyplot as plt\n",
        "import pandas as pd\n",
        "from IPython.display import display, Math"
      ],
      "metadata": {
        "id": "740cbGhsVOBq"
      },
      "execution_count": null,
      "outputs": []
    },
    {
      "cell_type": "code",
      "execution_count": null,
      "metadata": {
        "colab": {
          "base_uri": "https://localhost:8080/"
        },
        "id": "8YZ8OIltUpCE",
        "outputId": "fb29119d-2ff8-484d-b826-39fe6132e881"
      },
      "outputs": [
        {
          "output_type": "stream",
          "name": "stdout",
          "text": [
            "Matriz X: \n",
            " [[ 75  43  17  95   9]\n",
            " [  0  22   0  70  11]\n",
            " [ 55   0   4 110   0]\n",
            " [  0   0  12   0  11]\n",
            " [  0  25   0   0  19]\n",
            " [ 35  40   0   0   0]\n",
            " [135   0   5 145  25]\n",
            " [  0  40  27 180  15]\n",
            " [ 75   0   0  85   0]\n",
            " [125  32   7   0  10]]\n"
          ]
        }
      ],
      "source": [
        "X = np.array(\n",
        "    [[75, 43, 17, 95, 9],\n",
        "     [0, 22, 0, 70, 11],\n",
        "     [55, 0, 4, 110, 0],\n",
        "     [0, 0, 12, 0, 11],\n",
        "     [0, 25, 0, 0, 19],\n",
        "     [35, 40, 0, 0, 0],\n",
        "     [135, 0, 5, 145, 25],\n",
        "     [0, 40, 27, 180, 15],\n",
        "     [75, 0, 0, 85, 0],\n",
        "     [125, 32, 7, 0, 10]])\n",
        "print(\"Matriz X: \\n\", X)"
      ]
    },
    {
      "cell_type": "markdown",
      "source": [
        "#**1 - Algebra Linear**"
      ],
      "metadata": {
        "id": "_H8tdh64WYe3"
      }
    },
    {
      "cell_type": "markdown",
      "source": [
        "**1.1) Decomposição Espectral da Matriz A = X^tX**"
      ],
      "metadata": {
        "id": "_N-k8AOBWgRI"
      }
    },
    {
      "cell_type": "code",
      "source": [
        "A = X.T @ X\n",
        "print(\"Matriz simétrica A: \\n\", A)"
      ],
      "metadata": {
        "colab": {
          "base_uri": "https://localhost:8080/"
        },
        "id": "0-McEpTJWVWZ",
        "outputId": "daa13c47-0c38-4f74-b92d-c79d6d18d55c"
      },
      "execution_count": null,
      "outputs": [
        {
          "output_type": "stream",
          "name": "stdout",
          "text": [
            "Matriz simétrica A: \n",
            " [[49350  8625  3045 39125  5300]\n",
            " [ 8625  7182  2035 12825  2024]\n",
            " [ 3045  2035  1252  7640   885]\n",
            " [39125 12825  7640 86675  7950]\n",
            " [ 5300  2024   885  7950  1634]]\n"
          ]
        }
      ]
    },
    {
      "cell_type": "markdown",
      "source": [
        "Preciso primeiro calcular a matriz de autovetores e a matriz diagonal de autovalores de A"
      ],
      "metadata": {
        "id": "-cDw0PpBYSzt"
      }
    },
    {
      "cell_type": "code",
      "source": [
        "autoval = np.round(np.linalg.eig(A)[0],3)\n",
        "autovec = np.round(np.linalg.eig(A)[1],3)\n",
        "\n",
        "P = autovec\n",
        "l = np.diag(autoval)\n",
        "print(\"Autovalores l \\n\", l)\n",
        "print(\"Autovetores P \\n\", P)\n"
      ],
      "metadata": {
        "colab": {
          "base_uri": "https://localhost:8080/"
        },
        "id": "oPLZ0oNXXF_o",
        "outputId": "6e9850d6-58f5-48cb-e328-0dd1a5a630b7"
      },
      "execution_count": null,
      "outputs": [
        {
          "output_type": "stream",
          "name": "stdout",
          "text": [
            "Autovalores l \n",
            " [[115056.095      0.         0.         0.         0.   ]\n",
            " [     0.     24768.294      0.         0.         0.   ]\n",
            " [     0.         0.      5193.507      0.         0.   ]\n",
            " [     0.         0.         0.       368.837      0.   ]\n",
            " [     0.         0.         0.         0.       706.266]]\n",
            "Autovetores P \n",
            " [[-0.524 -0.844 -0.097 -0.038 -0.034]\n",
            " [-0.144 -0.02   0.957  0.167 -0.187]\n",
            " [-0.073  0.061  0.188 -0.966  0.151]\n",
            " [-0.832  0.532 -0.136  0.061 -0.06 ]\n",
            " [-0.086 -0.01   0.144  0.185  0.968]]\n"
          ]
        }
      ]
    },
    {
      "cell_type": "markdown",
      "source": [
        "Agora faço a decomposição espectral:\n",
        "A = P * l * P**T"
      ],
      "metadata": {
        "id": "TidkBcbBYhJI"
      }
    },
    {
      "cell_type": "code",
      "source": [
        "decomp = P @ l @ P.T\n",
        "print(\"A\\n\", A)\n",
        "print(\"DECOMPOSIÇÃO:\")\n",
        "display(Math(r'A = P * l * P^T'))\n",
        "print(np.round(decomp,0))"
      ],
      "metadata": {
        "colab": {
          "base_uri": "https://localhost:8080/",
          "height": 247
        },
        "id": "fkKn3dk0Yq0r",
        "outputId": "1f5eb01c-46f4-4ff3-c63e-75dc07054428"
      },
      "execution_count": null,
      "outputs": [
        {
          "output_type": "stream",
          "name": "stdout",
          "text": [
            "A\n",
            " [[49350  8625  3045 39125  5300]\n",
            " [ 8625  7182  2035 12825  2024]\n",
            " [ 3045  2035  1252  7640   885]\n",
            " [39125 12825  7640 86675  7950]\n",
            " [ 5300  2024   885  7950  1634]]\n",
            "DECOMPOSIÇÃO:\n"
          ]
        },
        {
          "output_type": "display_data",
          "data": {
            "text/plain": [
              "<IPython.core.display.Math object>"
            ],
            "text/latex": "$\\displaystyle A = P * l * P^T$"
          },
          "metadata": {}
        },
        {
          "output_type": "stream",
          "name": "stdout",
          "text": [
            "[[49285.  8620.  3041. 39109.  5296.]\n",
            " [ 8620.  7187.  2034. 12857.  2029.]\n",
            " [ 3041.  2034.  1249.  7631.   885.]\n",
            " [39109. 12857.  7631. 86755.  7962.]\n",
            " [ 5296.  2029.   885.  7962.  1636.]]\n"
          ]
        }
      ]
    },
    {
      "cell_type": "markdown",
      "source": [
        "**1.2) MATRIZ DE COVARIÂNCIA AMOSTRAL DE X: S**\n",
        "A matriz de covariância S é realizada em função de X tranposta\n"
      ],
      "metadata": {
        "id": "FcND9bGMaNb1"
      }
    },
    {
      "cell_type": "code",
      "source": [
        "S = np.round(np.cov(X.T),2)\n",
        "print(\"Matriz S de covariância de X:\\n\", S)"
      ],
      "metadata": {
        "colab": {
          "base_uri": "https://localhost:8080/"
        },
        "id": "z_Vt-7k4adnQ",
        "outputId": "ba5adf82-39f4-42d5-83c3-421eb56cd8b3"
      },
      "execution_count": null,
      "outputs": [
        {
          "output_type": "stream",
          "name": "stdout",
          "text": [
            "Matriz S de covariância de X:\n",
            " [[ 2.70556e+03 -1.63890e+02 -6.16700e+01  5.41670e+02  3.33300e+01]\n",
            " [-1.63890e+02  3.44620e+02  6.45100e+01 -1.12440e+02  4.40000e-01]\n",
            " [-6.16700e+01  6.45100e+01  8.15100e+01  3.00890e+02  1.83300e+01]\n",
            " [ 5.41670e+02 -1.12440e+02  3.00890e+02  4.41694e+03  1.22220e+02]\n",
            " [ 3.33300e+01  4.40000e-01  1.83300e+01  1.22220e+02  7.04400e+01]]\n"
          ]
        }
      ]
    },
    {
      "cell_type": "markdown",
      "source": [
        "**1.3) Calcule e Mostre a Decomposição Espectral da Matriz S**"
      ],
      "metadata": {
        "id": "Ds6Nil0CbAw5"
      }
    },
    {
      "cell_type": "code",
      "source": [
        "autovalS = np.round(np.linalg.eig(S)[0],3)\n",
        "autovecS = np.round(np.linalg.eig(S)[1],3)\n",
        "\n",
        "Ps = autovecS\n",
        "ls = np.diag(autovalS)\n",
        "\n",
        "decompS = Ps @ ls @ Ps.T\n",
        "print(\"S\\n\", S)\n",
        "print(\"DECOMPOSIÇÃO:\")\n",
        "display(Math(r'S = Ps * ls * Ps^T'))\n",
        "print(np.round(decompS,3))"
      ],
      "metadata": {
        "colab": {
          "base_uri": "https://localhost:8080/",
          "height": 247
        },
        "id": "dlgrpuuKbHRq",
        "outputId": "7b95a490-c194-43ac-ef58-a5e486ab0ae5"
      },
      "execution_count": null,
      "outputs": [
        {
          "output_type": "stream",
          "name": "stdout",
          "text": [
            "S\n",
            " [[ 2.70556e+03 -1.63890e+02 -6.16700e+01  5.41670e+02  3.33300e+01]\n",
            " [-1.63890e+02  3.44620e+02  6.45100e+01 -1.12440e+02  4.40000e-01]\n",
            " [-6.16700e+01  6.45100e+01  8.15100e+01  3.00890e+02  1.83300e+01]\n",
            " [ 5.41670e+02 -1.12440e+02  3.00890e+02  4.41694e+03  1.22220e+02]\n",
            " [ 3.33300e+01  4.40000e-01  1.83300e+01  1.22220e+02  7.04400e+01]]\n",
            "DECOMPOSIÇÃO:\n"
          ]
        },
        {
          "output_type": "display_data",
          "data": {
            "text/plain": [
              "<IPython.core.display.Math object>"
            ],
            "text/latex": "$\\displaystyle S = Ps * ls * Ps^T$"
          },
          "metadata": {}
        },
        {
          "output_type": "stream",
          "name": "stdout",
          "text": [
            "[[ 2.705683e+03 -1.649480e+02 -6.227000e+01  5.428900e+02  3.333600e+01]\n",
            " [-1.649480e+02  3.446100e+02  6.455400e+01 -1.119340e+02  4.160000e-01]\n",
            " [-6.227000e+01  6.455400e+01  8.180400e+01  3.025150e+02  1.835400e+01]\n",
            " [ 5.428900e+02 -1.119340e+02  3.025150e+02  4.413841e+03  1.215340e+02]\n",
            " [ 3.333600e+01  4.160000e-01  1.835400e+01  1.215340e+02  7.036800e+01]]\n"
          ]
        }
      ]
    },
    {
      "cell_type": "markdown",
      "source": [
        "#**2 - ANÁLISE FATORIAL**"
      ],
      "metadata": {
        "id": "uv4DnlGOboev"
      }
    },
    {
      "cell_type": "markdown",
      "source": [
        "**2.1 - Calcule os dois primeiros fatores**"
      ],
      "metadata": {
        "id": "CmEWFiH1cLEM"
      }
    },
    {
      "cell_type": "markdown",
      "source": [
        "Para isso preciso calcular: A = X^t * X\n",
        "\n",
        "Depois calcular os autovalores e autovalores de X.\n",
        "\n",
        "Depois faço a normalização dos vetores, mas só usarei os dois vetores associados aos maiores autovalores. (autovetor/norma(autovetor))\n",
        "\n",
        "Os fatores são calculados multiplicando X pelos autovetores normalizados\n",
        "\n",
        "Os dois maiores autovalores serão informarão os dois primeiros fatores."
      ],
      "metadata": {
        "id": "Fkg9l88Mcr6n"
      }
    },
    {
      "cell_type": "code",
      "source": [
        "A = X.T@X\n",
        "eigenvaluesA, eigenvectorsA = np.linalg.eig(A)\n",
        "print(\"Autovalores de A: \\n\", eigenvaluesA)\n",
        "print(\"Autovetores de A: \\n\", eigenvectorsA)"
      ],
      "metadata": {
        "colab": {
          "base_uri": "https://localhost:8080/"
        },
        "id": "uMCAePQ9coX3",
        "outputId": "d890c0ac-cdaa-4232-d4f2-d5c043d7abed"
      },
      "execution_count": null,
      "outputs": [
        {
          "output_type": "stream",
          "name": "stdout",
          "text": [
            "Autovalores de A: \n",
            " [115056.09500004  24768.29407747   5193.5074843     368.83725172\n",
            "    706.26618647]\n",
            "Autovetores de A: \n",
            " [[-0.52439217 -0.84442262 -0.09682665 -0.0380223  -0.03379634]\n",
            " [-0.14379011 -0.0204968   0.95713364  0.16698876 -0.18685353]\n",
            " [-0.07310013  0.0612334   0.18832753 -0.96570362  0.15118231]\n",
            " [-0.83163063  0.53167357 -0.13582105  0.06082729 -0.05971933]\n",
            " [-0.08593094 -0.01019824  0.14354507  0.18543357  0.96825672]]\n"
          ]
        }
      ]
    },
    {
      "cell_type": "code",
      "source": [
        "normas = np.linalg.norm(eigenvectorsA, axis=0)\n",
        "vetores_normalizados = eigenvectorsA / normas\n",
        "#separando apenas os dois autovetores de interesse, os relativos aos maiores autovalores\n",
        "# que no caso são os dois primeiros\n",
        "eigvecNorm= eigenvectorsA[:,[0,1]]"
      ],
      "metadata": {
        "id": "bec1cS01dclN"
      },
      "execution_count": null,
      "outputs": []
    },
    {
      "cell_type": "code",
      "source": [
        "FATORES =  X@eigvecNorm\n",
        "df = pd.DataFrame(FATORES, columns=['Fator 1', 'Fator 2'])\n",
        "# Gerar nomes de linhas que utilizo como indices para facilitar a visualização dos dados\n",
        "row_names = [f'o{i+1}' for i in range(len(df))]\n",
        "# Atribuir nomes de linhas como índice do DataFrame\n",
        "df.index = row_names\n",
        "print(df)"
      ],
      "metadata": {
        "colab": {
          "base_uri": "https://localhost:8080/"
        },
        "id": "39r5tKPXd06O",
        "outputId": "85ece60f-ba3b-42b5-aa97-3a90b95c6119"
      },
      "execution_count": null,
      "outputs": [
        {
          "output_type": "stream",
          "name": "stdout",
          "text": [
            "        Fator 1     Fator 2\n",
            "o1  -126.533378  -12.754886\n",
            "o2   -62.322767   36.654040\n",
            "o3  -120.613339   12.285782\n",
            "o4    -1.822442    0.622620\n",
            "o5    -5.227441   -0.706187\n",
            "o6   -24.105331  -30.374664\n",
            "o7  -193.893158  -36.853175\n",
            "o8  -158.707785   96.381699\n",
            "o9  -110.018016  -18.139443\n",
            "o10  -71.521315 -105.882074\n"
          ]
        }
      ]
    },
    {
      "cell_type": "markdown",
      "source": [
        "Plotando os Fatores:"
      ],
      "metadata": {
        "id": "V18R6tf0fI6p"
      }
    },
    {
      "cell_type": "code",
      "source": [
        "#PLOTANDO\n",
        "plt.scatter(df['Fator 1'], df['Fator 2'])\n",
        "\n",
        "# Adicionar rótulos aos pontos\n",
        "for i, row_name in enumerate(df.index):\n",
        "    plt.annotate(row_name, (df['Fator 1'][i], df['Fator 2'][i]))\n",
        "\n",
        "plt.xlabel('Fator 1')\n",
        "plt.ylabel('Fator 2')\n",
        "plt.title('Scatter Plot com Identificação dos Pontos')\n",
        "plt.show()"
      ],
      "metadata": {
        "colab": {
          "base_uri": "https://localhost:8080/",
          "height": 527
        },
        "id": "az8RCWi9e1fO",
        "outputId": "87a98b0f-1bd0-4c95-a842-a3e608dd32ca"
      },
      "execution_count": null,
      "outputs": [
        {
          "output_type": "stream",
          "name": "stderr",
          "text": [
            "<ipython-input-11-a2948ba4c91e>:6: FutureWarning: Series.__getitem__ treating keys as positions is deprecated. In a future version, integer keys will always be treated as labels (consistent with DataFrame behavior). To access a value by position, use `ser.iloc[pos]`\n",
            "  plt.annotate(row_name, (df['Fator 1'][i], df['Fator 2'][i]))\n"
          ]
        },
        {
          "output_type": "display_data",
          "data": {
            "text/plain": [
              "<Figure size 640x480 with 1 Axes>"
            ],
            "image/png": "[encoded data removed]"
          },
          "metadata": {}
        }
      ]
    },
    {
      "cell_type": "markdown",
      "source": [
        "**2.2 - Ordene os ângulos dos vetores o com relação ao eixo X**"
      ],
      "metadata": {
        "id": "vRUzzg4BfwaD"
      }
    },
    {
      "cell_type": "code",
      "source": [
        "angulos = np.arctan2(df['Fator 1'], df['Fator 2'])\n",
        "row_names = [f'o{i+1}' for i in range(len(df))]\n",
        "angulos.index = row_names\n",
        "indices_ordenados = np.argsort(angulos)\n",
        "print(angulos)"
      ],
      "metadata": {
        "colab": {
          "base_uri": "https://localhost:8080/"
        },
        "id": "tf4D5iCvf5_R",
        "outputId": "c5f82a17-d60e-4aa7-820a-439dff0e9d97"
      },
      "execution_count": null,
      "outputs": [
        {
          "output_type": "stream",
          "name": "stdout",
          "text": [
            "o1    -1.137997\n",
            "o2    -1.039560\n",
            "o3    -1.069089\n",
            "o4    -1.154674\n",
            "o5    -1.154322\n",
            "o6    -1.217363\n",
            "o7    -1.200950\n",
            "o8    -0.782670\n",
            "o9    -1.167609\n",
            "o10   -1.412208\n",
            "dtype: float64\n"
          ]
        }
      ]
    },
    {
      "cell_type": "code",
      "source": [
        "# Plotar os vetores no gráfico\n",
        "angulos_ordenados = angulos[indices_ordenados]\n",
        "plt.scatter(sorted(angulos), range(len(df)))\n",
        "# Adicionar rótulos aos pontos\n",
        "for i, label in enumerate(angulos_ordenados.index):\n",
        "    plt.annotate(label, (angulos_ordenados[i], i), textcoords=\"offset points\", xytext=(0, 5), ha='center')\n",
        "\n",
        "\n",
        "plt.xlabel('Fator 1')\n",
        "plt.ylabel('Fator 2')\n",
        "plt.title('Scatter Plot com Identificação dos Pontos')\n",
        "plt.show()\n"
      ],
      "metadata": {
        "colab": {
          "base_uri": "https://localhost:8080/",
          "height": 561
        },
        "id": "Vb4wQrr3hV84",
        "outputId": "46c32d21-b11c-4093-feb4-558ebff9be60"
      },
      "execution_count": null,
      "outputs": [
        {
          "output_type": "stream",
          "name": "stderr",
          "text": [
            "<ipython-input-28-d45a9c98bda7>:2: FutureWarning: Series.__getitem__ treating keys as positions is deprecated. In a future version, integer keys will always be treated as labels (consistent with DataFrame behavior). To access a value by position, use `ser.iloc[pos]`\n",
            "  angulos_ordenados = angulos[indices_ordenados]\n",
            "<ipython-input-28-d45a9c98bda7>:6: FutureWarning: Series.__getitem__ treating keys as positions is deprecated. In a future version, integer keys will always be treated as labels (consistent with DataFrame behavior). To access a value by position, use `ser.iloc[pos]`\n",
            "  plt.annotate(label, (angulos_ordenados[i], i), textcoords=\"offset points\", xytext=(0, 5), ha='center')\n"
          ]
        },
        {
          "output_type": "display_data",
          "data": {
            "text/plain": [
              "<Figure size 640x480 with 1 Axes>"
            ],
            "image/png": "[encoded data removed]"
          },
          "metadata": {}
        }
      ]
    },
    {
      "cell_type": "markdown",
      "source": [
        "**2.3 - Quais os dois clientes que possuem o menor e o maior ângulo entre eles no conjunto?**\n",
        "\n",
        "Resposta: O cliente 8 tem o maior ângulo e o cliente 10 tem o menor ângulo"
      ],
      "metadata": {
        "id": "YR-JiToDfS_j"
      }
    },
    {
      "cell_type": "markdown",
      "source": [
        "#**3 - ANÁLISE DE COMPONENTES PRINCIPAIS**"
      ],
      "metadata": {
        "id": "QmBg0JoqmRvE"
      }
    },
    {
      "cell_type": "markdown",
      "source": [
        "**3.1 - Calcule os dois primeiros componentes**"
      ],
      "metadata": {
        "id": "UgOVC8ocnqRD"
      }
    },
    {
      "cell_type": "code",
      "source": [
        "print(\"Tenho que calcular:\\n\")\n",
        "display(Math(r'y_ = (X - 1n * x^T)*V'))"
      ],
      "metadata": {
        "colab": {
          "base_uri": "https://localhost:8080/",
          "height": 73
        },
        "id": "dyrM6AlGoVxM",
        "outputId": "940a4a16-97fd-4f36-f7d8-d401136c5488"
      },
      "execution_count": null,
      "outputs": [
        {
          "output_type": "stream",
          "name": "stdout",
          "text": [
            "Tenho que calcular:\n",
            "\n"
          ]
        },
        {
          "output_type": "display_data",
          "data": {
            "text/plain": [
              "<IPython.core.display.Math object>"
            ],
            "text/latex": "$\\displaystyle y_ = (X - 1n * x^T)*V$"
          },
          "metadata": {}
        }
      ]
    },
    {
      "cell_type": "code",
      "source": [
        "autovalores = np.round(np.linalg.eig(np.cov(X.T))[0],3)\n",
        "autovetores = np.round(np.linalg.eig(np.cov(X.T))[1],3)\n",
        "print(autovalores)"
      ],
      "metadata": {
        "colab": {
          "base_uri": "https://localhost:8080/"
        },
        "id": "8qp7fQ5dsGwJ",
        "outputId": "aee24a2a-2b67-4c1b-b01e-1bf08246d43d"
      },
      "execution_count": null,
      "outputs": [
        {
          "output_type": "stream",
          "name": "stdout",
          "text": [
            "[4599.216 2564.336  346.996   38.762   69.768]\n"
          ]
        }
      ]
    },
    {
      "cell_type": "code",
      "source": [
        "\n",
        "# Calculando as médias de cada coluna\n",
        "x_mean = np.mean(X, axis=1)\n",
        "\n",
        "# Obtendo o número de linhas da matriz X\n",
        "num_linhas = X.shape[0]\n",
        "\n",
        "# Criando um vetor de uns com o tamanho igual ao número de linhas de X\n",
        "vetor1 = np.ones(10)\n",
        "\n",
        "# Multiplicação escalar\n",
        "y_barra = (X - (vetor1.T @ x_mean)) @ autovetores\n",
        "y_barra\n",
        "\n",
        "df = pd.DataFrame(y_barra[:,[0,1]], columns=['Fator 1', 'Fator 2'])\n",
        "# Gerar nomes de linhas que utilizo como indices para facilitar a visualização dos dados\n",
        "row_names = [f'o{i+1}' for i in range(len(df))]\n",
        "# Atribuir nomes de linhas como índice do DataFrame\n",
        "df.index = row_names\n",
        "print(df)\n"
      ],
      "metadata": {
        "colab": {
          "base_uri": "https://localhost:8080/"
        },
        "id": "XPv2xvLrmWh6",
        "outputId": "544c034c-4929-418f-d9e4-3819344b2567"
      },
      "execution_count": null,
      "outputs": [
        {
          "output_type": "stream",
          "name": "stdout",
          "text": [
            "      Fator 1  Fator 2\n",
            "o1  -289.8096  133.896\n",
            "o2  -334.6886  196.656\n",
            "o3  -280.4866  153.853\n",
            "o4  -400.2586  176.886\n",
            "o5  -401.6296  177.661\n",
            "o6  -393.0266  144.997\n",
            "o7  -224.1166   86.887\n",
            "o8  -228.2066  229.455\n",
            "o9  -299.1566  127.607\n",
            "o10 -367.2066   58.728\n"
          ]
        }
      ]
    },
    {
      "cell_type": "code",
      "source": [
        "#PLOTANDO\n",
        "plt.scatter(df['Fator 1'], df['Fator 2'])\n",
        "\n",
        "# Adicionar rótulos aos pontos\n",
        "for i, row_name in enumerate(df.index):\n",
        "    plt.annotate(row_name, (df['Fator 1'][i], df['Fator 2'][i]))\n",
        "\n",
        "plt.xlabel('Fator 1')\n",
        "plt.ylabel('Fator 2')\n",
        "plt.title('Scatter Plot com Identificação dos Pontos')\n",
        "plt.show()"
      ],
      "metadata": {
        "colab": {
          "base_uri": "https://localhost:8080/",
          "height": 527
        },
        "id": "IA6oOKm7rOCg",
        "outputId": "b256b282-f91b-4e7d-8847-5da2eb91150a"
      },
      "execution_count": null,
      "outputs": [
        {
          "output_type": "stream",
          "name": "stderr",
          "text": [
            "<ipython-input-17-a2948ba4c91e>:6: FutureWarning: Series.__getitem__ treating keys as positions is deprecated. In a future version, integer keys will always be treated as labels (consistent with DataFrame behavior). To access a value by position, use `ser.iloc[pos]`\n",
            "  plt.annotate(row_name, (df['Fator 1'][i], df['Fator 2'][i]))\n"
          ]
        },
        {
          "output_type": "display_data",
          "data": {
            "text/plain": [
              "<Figure size 640x480 with 1 Axes>"
            ],
            "image/png": "[encoded data removed]"
          },
          "metadata": {}
        }
      ]
    },
    {
      "cell_type": "markdown",
      "source": [
        "**3.2 - Calculando os Ângulos**"
      ],
      "metadata": {
        "id": "GZ4rJxv0smTV"
      }
    },
    {
      "cell_type": "code",
      "source": [
        "angulos = np.arctan2(df['Fator 1'], df['Fator 2'])\n",
        "row_names = [f'o{i+1}' for i in range(len(df))]\n",
        "angulos.index = row_names\n",
        "indices_ordenados = np.argsort(angulos)\n",
        "print(angulos)"
      ],
      "metadata": {
        "colab": {
          "base_uri": "https://localhost:8080/"
        },
        "id": "VyZQUvx2sm-v",
        "outputId": "9b8a03b5-9648-4fe6-9bcb-9eb38b72912b"
      },
      "execution_count": null,
      "outputs": [
        {
          "output_type": "stream",
          "name": "stdout",
          "text": [
            "o1    -1.137997\n",
            "o2    -1.039560\n",
            "o3    -1.069089\n",
            "o4    -1.154674\n",
            "o5    -1.154322\n",
            "o6    -1.217363\n",
            "o7    -1.200950\n",
            "o8    -0.782670\n",
            "o9    -1.167609\n",
            "o10   -1.412208\n",
            "dtype: float64\n"
          ]
        }
      ]
    },
    {
      "cell_type": "code",
      "source": [
        "# Plotar os vetores no gráfico\n",
        "angulos_ordenados = angulos[indices_ordenados]\n",
        "plt.scatter(sorted(angulos), range(len(df)))\n",
        "# Adicionar rótulos aos pontos\n",
        "for i, label in enumerate(angulos_ordenados.index):\n",
        "    plt.annotate(label, (angulos_ordenados[i], i), textcoords=\"offset points\", xytext=(0, 5), ha='center')\n",
        "\n",
        "\n",
        "plt.xlabel('Fator 1')\n",
        "plt.ylabel('Fator 2')\n",
        "plt.title('Scatter Plot com Identificação dos Pontos')\n",
        "plt.show()"
      ],
      "metadata": {
        "colab": {
          "base_uri": "https://localhost:8080/",
          "height": 561
        },
        "id": "RZoz9E0Ps4Rx",
        "outputId": "e723844e-0325-4fe4-f8b8-5ccfcf8dbf4b"
      },
      "execution_count": null,
      "outputs": [
        {
          "output_type": "stream",
          "name": "stderr",
          "text": [
            "<ipython-input-19-d45a9c98bda7>:2: FutureWarning: Series.__getitem__ treating keys as positions is deprecated. In a future version, integer keys will always be treated as labels (consistent with DataFrame behavior). To access a value by position, use `ser.iloc[pos]`\n",
            "  angulos_ordenados = angulos[indices_ordenados]\n",
            "<ipython-input-19-d45a9c98bda7>:6: FutureWarning: Series.__getitem__ treating keys as positions is deprecated. In a future version, integer keys will always be treated as labels (consistent with DataFrame behavior). To access a value by position, use `ser.iloc[pos]`\n",
            "  plt.annotate(label, (angulos_ordenados[i], i), textcoords=\"offset points\", xytext=(0, 5), ha='center')\n"
          ]
        },
        {
          "output_type": "display_data",
          "data": {
            "text/plain": [
              "<Figure size 640x480 with 1 Axes>"
            ],
            "image/png": "[encoded data removed]"
          },
          "metadata": {}
        }
      ]
    },
    {
      "cell_type": "markdown",
      "source": [
        "**3.3 - % DE EXPLICAÇÃO DOS FATORES**\n",
        "\n",
        "A adição de um terceiro fator não adiciona muito a explicação, apenas 4%"
      ],
      "metadata": {
        "id": "ZtZh4Ds5uCQ3"
      }
    },
    {
      "cell_type": "code",
      "source": [
        "doisfatores = (autovalores[0]+autovalores[1])/sum(autovalores)\n",
        "tresfatores = (autovalores[0]+autovalores[1]+autovalores[2])/sum(autovalores)\n",
        "\n",
        "print(\"Dois Fatores\", doisfatores)\n",
        "print(\"Três Fatores\", tresfatores)"
      ],
      "metadata": {
        "colab": {
          "base_uri": "https://localhost:8080/"
        },
        "id": "SH9BLvDutFBi",
        "outputId": "5064f54d-eab5-4f9d-f92d-489b84e75d31"
      },
      "execution_count": null,
      "outputs": [
        {
          "output_type": "stream",
          "name": "stdout",
          "text": [
            "Dois Fatores 0.940212450902852\n",
            "Três Fatores 0.9857554942999666\n"
          ]
        }
      ]
    }
  ]
}